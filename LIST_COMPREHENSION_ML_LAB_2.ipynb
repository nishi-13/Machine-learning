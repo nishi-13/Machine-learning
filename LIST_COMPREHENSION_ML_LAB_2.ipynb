{
  "nbformat": 4,
  "nbformat_minor": 0,
  "metadata": {
    "colab": {
      "name": "LIST_COMPREHENSION_ML_LAB 2.ipynb",
      "provenance": [],
      "collapsed_sections": [],
      "include_colab_link": true
    },
    "kernelspec": {
      "name": "python3",
      "display_name": "Python 3"
    },
    "language_info": {
      "name": "python"
    }
  },
  "cells": [
    {
      "cell_type": "markdown",
      "metadata": {
        "id": "view-in-github",
        "colab_type": "text"
      },
      "source": [
        "<a href=\"https://colab.research.google.com/github/nishi-13/Machine-learning/blob/main/LIST_COMPREHENSION_ML_LAB_2.ipynb\" target=\"_parent\"><img src=\"https://colab.research.google.com/assets/colab-badge.svg\" alt=\"Open In Colab\"/></a>"
      ]
    },
    {
      "cell_type": "code",
      "execution_count": null,
      "metadata": {
        "colab": {
          "base_uri": "https://localhost:8080/"
        },
        "id": "CCAsjCggNFhK",
        "outputId": "227b81f3-8f88-4ef6-9c82-e975f5b2d518"
      },
      "outputs": [
        {
          "output_type": "execute_result",
          "data": {
            "text/plain": [
              "[(0, 'hi'), (1, 129), (2, 3), (3, 4), (4, (0.1, 'hi'))]"
            ]
          },
          "metadata": {},
          "execution_count": 4
        }
      ],
      "source": [
        "#get the index and value as a tuple for item in the list \n",
        "items = ['hi', 129,3,4,(0.1,'hi')]\n",
        "[(i,j) for i,j in enumerate (items)]"
      ]
    },
    {
      "cell_type": "code",
      "source": [
        "#find the common number in the two list \n",
        "l1=[1,2,3,4,5,6,7,8,9]\n",
        "l2=[34,6,34,3,4,7,9]\n",
        "[i for i in l1 for j in l2 if i==j]"
      ],
      "metadata": {
        "colab": {
          "base_uri": "https://localhost:8080/"
        },
        "id": "gH7fXZ4jOdRs",
        "outputId": "e2586d26-168f-464e-8dd0-409db3cea58b"
      },
      "execution_count": null,
      "outputs": [
        {
          "output_type": "execute_result",
          "data": {
            "text/plain": [
              "[3, 4, 6, 7, 9]"
            ]
          },
          "metadata": {},
          "execution_count": 8
        }
      ]
    },
    {
      "cell_type": "code",
      "source": [
        "l1=[1,2,3,4,5,6,7,8,9]\n",
        "l2=[34,6,34,3,4,7,9]\n",
        "[i for i in l1 if i in l2]"
      ],
      "metadata": {
        "colab": {
          "base_uri": "https://localhost:8080/"
        },
        "id": "55EJOFMsPMNm",
        "outputId": "a7d7c90e-49a7-436e-a1e7-0be551732d18"
      },
      "execution_count": null,
      "outputs": [
        {
          "output_type": "execute_result",
          "data": {
            "text/plain": [
              "[3, 4, 6, 7, 9]"
            ]
          },
          "metadata": {},
          "execution_count": 9
        }
      ]
    },
    {
      "cell_type": "code",
      "source": [
        "#count the number of letter  \n",
        "S=\"this is csit department\"\n",
        "l1= S.split()\n",
        "[len(i) for i in l1]\n"
      ],
      "metadata": {
        "colab": {
          "base_uri": "https://localhost:8080/"
        },
        "id": "qEA7xV-xPqiH",
        "outputId": "ca01cda9-c730-4e20-9647-d7c626d09687"
      },
      "execution_count": null,
      "outputs": [
        {
          "output_type": "execute_result",
          "data": {
            "text/plain": [
              "[4, 2, 4, 10]"
            ]
          },
          "metadata": {},
          "execution_count": 28
        }
      ]
    },
    {
      "cell_type": "code",
      "source": [
        "#use a nested list comprehension to find all the number in range 1 to 100 that are divisible by any digit  2 to 9 \n",
        "[ i  for i in range (1,101) for j in range(2,10) if  i%j==0]"
      ],
      "metadata": {
        "colab": {
          "base_uri": "https://localhost:8080/"
        },
        "id": "zrZtihbeUBBc",
        "outputId": "d5899931-74b3-4c71-8657-6cde040f2de8"
      },
      "execution_count": null,
      "outputs": [
        {
          "output_type": "execute_result",
          "data": {
            "text/plain": [
              "[2,\n",
              " 3,\n",
              " 4,\n",
              " 4,\n",
              " 5,\n",
              " 6,\n",
              " 6,\n",
              " 6,\n",
              " 7,\n",
              " 8,\n",
              " 8,\n",
              " 8,\n",
              " 9,\n",
              " 9,\n",
              " 10,\n",
              " 10,\n",
              " 12,\n",
              " 12,\n",
              " 12,\n",
              " 12,\n",
              " 14,\n",
              " 14,\n",
              " 15,\n",
              " 15,\n",
              " 16,\n",
              " 16,\n",
              " 16,\n",
              " 18,\n",
              " 18,\n",
              " 18,\n",
              " 18,\n",
              " 20,\n",
              " 20,\n",
              " 20,\n",
              " 21,\n",
              " 21,\n",
              " 22,\n",
              " 24,\n",
              " 24,\n",
              " 24,\n",
              " 24,\n",
              " 24,\n",
              " 25,\n",
              " 26,\n",
              " 27,\n",
              " 27,\n",
              " 28,\n",
              " 28,\n",
              " 28,\n",
              " 30,\n",
              " 30,\n",
              " 30,\n",
              " 30,\n",
              " 32,\n",
              " 32,\n",
              " 32,\n",
              " 33,\n",
              " 34,\n",
              " 35,\n",
              " 35,\n",
              " 36,\n",
              " 36,\n",
              " 36,\n",
              " 36,\n",
              " 36,\n",
              " 38,\n",
              " 39,\n",
              " 40,\n",
              " 40,\n",
              " 40,\n",
              " 40,\n",
              " 42,\n",
              " 42,\n",
              " 42,\n",
              " 42,\n",
              " 44,\n",
              " 44,\n",
              " 45,\n",
              " 45,\n",
              " 45,\n",
              " 46,\n",
              " 48,\n",
              " 48,\n",
              " 48,\n",
              " 48,\n",
              " 48,\n",
              " 49,\n",
              " 50,\n",
              " 50,\n",
              " 51,\n",
              " 52,\n",
              " 52,\n",
              " 54,\n",
              " 54,\n",
              " 54,\n",
              " 54,\n",
              " 55,\n",
              " 56,\n",
              " 56,\n",
              " 56,\n",
              " 56,\n",
              " 57,\n",
              " 58,\n",
              " 60,\n",
              " 60,\n",
              " 60,\n",
              " 60,\n",
              " 60,\n",
              " 62,\n",
              " 63,\n",
              " 63,\n",
              " 63,\n",
              " 64,\n",
              " 64,\n",
              " 64,\n",
              " 65,\n",
              " 66,\n",
              " 66,\n",
              " 66,\n",
              " 68,\n",
              " 68,\n",
              " 69,\n",
              " 70,\n",
              " 70,\n",
              " 70,\n",
              " 72,\n",
              " 72,\n",
              " 72,\n",
              " 72,\n",
              " 72,\n",
              " 72,\n",
              " 74,\n",
              " 75,\n",
              " 75,\n",
              " 76,\n",
              " 76,\n",
              " 77,\n",
              " 78,\n",
              " 78,\n",
              " 78,\n",
              " 80,\n",
              " 80,\n",
              " 80,\n",
              " 80,\n",
              " 81,\n",
              " 81,\n",
              " 82,\n",
              " 84,\n",
              " 84,\n",
              " 84,\n",
              " 84,\n",
              " 84,\n",
              " 85,\n",
              " 86,\n",
              " 87,\n",
              " 88,\n",
              " 88,\n",
              " 88,\n",
              " 90,\n",
              " 90,\n",
              " 90,\n",
              " 90,\n",
              " 90,\n",
              " 91,\n",
              " 92,\n",
              " 92,\n",
              " 93,\n",
              " 94,\n",
              " 95,\n",
              " 96,\n",
              " 96,\n",
              " 96,\n",
              " 96,\n",
              " 96,\n",
              " 98,\n",
              " 98,\n",
              " 99,\n",
              " 99,\n",
              " 100,\n",
              " 100,\n",
              " 100]"
            ]
          },
          "metadata": {},
          "execution_count": 24
        }
      ]
    },
    {
      "cell_type": "code",
      "source": [
        "#count the number of word\n",
        "S=\"this is csit department\"\n",
        "i= S \n",
        "[j for j in i]"
      ],
      "metadata": {
        "colab": {
          "base_uri": "https://localhost:8080/"
        },
        "id": "XI3S8YAeP3vF",
        "outputId": "be9a5f43-59b4-4b24-81ed-aec3e81b044f"
      },
      "execution_count": null,
      "outputs": [
        {
          "output_type": "execute_result",
          "data": {
            "text/plain": [
              "['t',\n",
              " 'h',\n",
              " 'i',\n",
              " 's',\n",
              " ' ',\n",
              " 'i',\n",
              " 's',\n",
              " ' ',\n",
              " 'c',\n",
              " 's',\n",
              " 'i',\n",
              " 't',\n",
              " ' ',\n",
              " 'd',\n",
              " 'e',\n",
              " 'p',\n",
              " 'a',\n",
              " 'r',\n",
              " 't',\n",
              " 'm',\n",
              " 'e',\n",
              " 'n',\n",
              " 't']"
            ]
          },
          "metadata": {},
          "execution_count": 12
        }
      ]
    },
    {
      "cell_type": "code",
      "source": [
        "#count the number of word which are not alpha numeric  \n",
        "S= \"this is csit 1984 60\"\n",
        "i=S.split()\n",
        "[j  for j in i if not j.isalpha()]\n",
        "\n",
        "#print the letter having character greater then 4 \n",
        "S= \"this is csit 1984 60\"\n",
        "\n",
        "[j  for j in S.split() if j.isalpha() and len(j)>4]"
      ],
      "metadata": {
        "colab": {
          "base_uri": "https://localhost:8080/"
        },
        "id": "1eogNP2YRSMs",
        "outputId": "1f7ed6eb-33c6-4c91-d1cd-516e50f01aa2"
      },
      "execution_count": null,
      "outputs": [
        {
          "output_type": "execute_result",
          "data": {
            "text/plain": [
              "[]"
            ]
          },
          "metadata": {},
          "execution_count": 19
        }
      ]
    }
  ]
}